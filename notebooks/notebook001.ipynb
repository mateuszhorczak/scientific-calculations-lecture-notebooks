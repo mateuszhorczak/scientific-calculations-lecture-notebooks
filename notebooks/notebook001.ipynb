{
 "cells": [
  {
   "metadata": {},
   "cell_type": "markdown",
   "source": "# Funkcja f(x) = x * ln(x)^4",
   "id": "538a0de4fbc58790"
  },
  {
   "metadata": {
    "ExecuteTime": {
     "end_time": "2025-03-20T16:00:20.669171Z",
     "start_time": "2025-03-20T16:00:20.664825Z"
    }
   },
   "cell_type": "code",
   "source": [
    "import sympy as sp\n",
    "import matplotlib"
   ],
   "id": "6f931b03e938d630",
   "outputs": [],
   "execution_count": 11
  },
  {
   "metadata": {
    "ExecuteTime": {
     "end_time": "2025-03-20T16:00:20.679971Z",
     "start_time": "2025-03-20T16:00:20.675915Z"
    }
   },
   "cell_type": "code",
   "source": [
    "x = sp.symbols('x')\n",
    "definition = x * (sp.log(x) ** 4)"
   ],
   "id": "143c084fd05a489c",
   "outputs": [],
   "execution_count": 12
  },
  {
   "metadata": {},
   "cell_type": "markdown",
   "source": "",
   "id": "58a32268cc0e87ac"
  },
  {
   "metadata": {},
   "cell_type": "markdown",
   "source": [
    "## Zadanie 1\n",
    "Wyznacz dziedzinę funkcji i asymptoty, jeśli są.\n"
   ],
   "id": "c39fc1b94c635925"
  },
  {
   "metadata": {
    "ExecuteTime": {
     "end_time": "2025-03-20T16:00:20.779507Z",
     "start_time": "2025-03-20T16:00:20.692110Z"
    }
   },
   "cell_type": "code",
   "source": [
    "domain = sp.calculus.util.continuous_domain(definition, x, sp.Reals)\n",
    "asymptote_to_infinite = sp.limit(definition, x, sp.oo)\n",
    "asymptote_to_negative_infinite = sp.limit(definition, x, -sp.oo)\n",
    "asymptote_horizontal = sp.limit(definition, x, 0)"
   ],
   "id": "53e02b50a5621ec2",
   "outputs": [],
   "execution_count": 13
  },
  {
   "metadata": {
    "ExecuteTime": {
     "end_time": "2025-03-20T16:00:20.795448Z",
     "start_time": "2025-03-20T16:00:20.791211Z"
    }
   },
   "cell_type": "code",
   "source": [
    "print(f'Dziedzina funkcji: {domain}')\n",
    "print(f'Asymptota pionowa: {asymptote_to_infinite}')\n",
    "print(f'Asymptota pozioma: {asymptote_horizontal}')"
   ],
   "id": "13e03042d0e94342",
   "outputs": [
    {
     "name": "stdout",
     "output_type": "stream",
     "text": [
      "Dziedzina funkcji: Interval.open(0, oo)\n",
      "Asymptota pionowa: oo\n",
      "Asymptota pozioma: 0\n"
     ]
    }
   ],
   "execution_count": 14
  },
  {
   "metadata": {},
   "cell_type": "markdown",
   "source": [
    "## Zadanie 2\n",
    "Narysuj wykres funkcji."
   ],
   "id": "921d6801d76ee5f7"
  },
  {
   "metadata": {
    "ExecuteTime": {
     "end_time": "2025-03-20T16:00:23.858888Z",
     "start_time": "2025-03-20T16:00:20.805375Z"
    }
   },
   "cell_type": "code",
   "source": [
    "plot_title = 'f(x) = x * log_2(x)^4'\n",
    "x_label = 'x'\n",
    "y_label = 'f(x)'\n",
    "step = 0.01\n",
    "end_value = 10\n",
    "\n",
    "sp.plot(definition, (x, step, end_value), title=plot_title, xlabel=x_label, ylabel=y_label)"
   ],
   "id": "592a12a1983b8412",
   "outputs": [
    {
     "data": {
      "text/plain": [
       "<Figure size 640x480 with 1 Axes>"
      ],
      "image/png": "[encoded data removed]"
     },
     "metadata": {},
     "output_type": "display_data"
    },
    {
     "data": {
      "text/plain": [
       "<sympy.plotting.backends.matplotlibbackend.matplotlib.MatplotlibBackend at 0x1e6c1da2c60>"
      ]
     },
     "execution_count": 15,
     "metadata": {},
     "output_type": "execute_result"
    }
   ],
   "execution_count": 15
  },
  {
   "metadata": {},
   "cell_type": "markdown",
   "source": [
    "## Zadanie 3\n",
    "Obliczyć pochodne f(k), k = 1, 2, 3, 4 a następnie obliczyć wartości tych pochodnych w podanych punktach"
   ],
   "id": "5ab9a2f4ee2fa73"
  },
  {
   "metadata": {
    "ExecuteTime": {
     "end_time": "2025-03-20T16:00:23.873023Z",
     "start_time": "2025-03-20T16:00:23.868057Z"
    }
   },
   "cell_type": "code",
   "source": [
    "first_derivative = sp.diff(definition)\n",
    "second_derivative = sp.diff(first_derivative)\n",
    "third_derivative = sp.diff(second_derivative)\n",
    "fourth_derivative = sp.diff(third_derivative)"
   ],
   "id": "3d5a135fbc181f71",
   "outputs": [],
   "execution_count": 16
  },
  {
   "metadata": {
    "ExecuteTime": {
     "end_time": "2025-03-20T16:00:23.923675Z",
     "start_time": "2025-03-20T16:00:23.918675Z"
    }
   },
   "cell_type": "code",
   "source": [
    "print(f'Pierwsza pochodna (1.11) {first_derivative.subs(x, 1.11).evalf()}')\n",
    "print(f'Druga pochodna (2.22) {second_derivative.subs(x, 2.22).evalf()}')\n",
    "print(f'Trzecie pochodna (3.33) {third_derivative.subs(x, 3.33).evalf()}')\n",
    "print(f'Czwarta pochodna (4.44) {fourth_derivative.subs(x, 4.44).evalf()}')"
   ],
   "id": "b5aa8c6279402b6f",
   "outputs": [
    {
     "name": "stdout",
     "output_type": "stream",
     "text": [
      "Pierwsza pochodna (1.11) 0.00466495920995858\n",
      "Druga pochodna (2.22) 4.35185927358923\n",
      "Trzecie pochodna (3.33) 1.97565552576735\n",
      "Czwarta pochodna (4.44) -0.545166487330982\n"
     ]
    }
   ],
   "execution_count": 17
  },
  {
   "metadata": {},
   "cell_type": "markdown",
   "source": [
    "## Zadanie 4\n",
    "Wyznaczyć przedziały monotoniczności funkcji."
   ],
   "id": "1d8ccdb6bdddc2d8"
  },
  {
   "metadata": {
    "ExecuteTime": {
     "end_time": "2025-03-20T16:00:24.059965Z",
     "start_time": "2025-03-20T16:00:23.949515Z"
    }
   },
   "cell_type": "code",
   "source": [
    "increasing_intervals = sp.solve(first_derivative > 0, x)\n",
    "decreasing_intervals = sp.solve(first_derivative < 0, x)\n",
    "\n",
    "print(f'Przedziały, na których funkcja jest rosnąca: {increasing_intervals}')\n",
    "print(f'Przedziały, na których funkcja jest malejąca: {decreasing_intervals}')"
   ],
   "id": "ba5976c379ac4eeb",
   "outputs": [
    {
     "name": "stdout",
     "output_type": "stream",
     "text": [
      "Przedziały, na których funkcja jest rosnąca: (1 < x) | ((0 < x) & (x < exp(-4)))\n",
      "Przedziały, na których funkcja jest malejąca: (x < 1) & (exp(-4) < x)\n"
     ]
    }
   ],
   "execution_count": 18
  },
  {
   "metadata": {},
   "cell_type": "markdown",
   "source": [
    "## Zadanie 5\n",
    "Kiedy funkcja osiąga ekstrema?"
   ],
   "id": "279c31a9ef913898"
  },
  {
   "metadata": {
    "ExecuteTime": {
     "end_time": "2025-03-20T16:02:38.727735Z",
     "start_time": "2025-03-20T16:02:38.697246Z"
    }
   },
   "cell_type": "code",
   "source": [
    "derivative_zeroes = sp.solve(first_derivative, x)\n",
    "\n",
    "min_value = definition.subs(x, derivative_zeroes[0]).evalf()\n",
    "max_value = definition.subs(x, derivative_zeroes[0]).evalf()\n",
    "min_for = derivative_zeroes[0]\n",
    "max_for = derivative_zeroes[0]\n",
    "\n",
    "for zero in derivative_zeroes:\n",
    "    result = definition.subs(x, zero).evalf()\n",
    "    if min_value > result:\n",
    "        min_value = result\n",
    "        min_for = zero\n",
    "\n",
    "    if max_value < result:\n",
    "        max_value = result\n",
    "        max_for = zero\n",
    "\n",
    "print(f'Maksimum dla {max_for}: {max_value}')\n",
    "print(f'Minimum dla {min_for}: {min_value}')"
   ],
   "id": "cca976b647918b80",
   "outputs": [
    {
     "name": "stdout",
     "output_type": "stream",
     "text": [
      "Maksimum dla exp(-4): 4.68880355551595\n",
      "Minimum dla 1: 0\n"
     ]
    }
   ],
   "execution_count": 20
  }
 ],
 "metadata": {
  "kernelspec": {
   "display_name": "Python 3",
   "language": "python",
   "name": "python3"
  },
  "language_info": {
   "codemirror_mode": {
    "name": "ipython",
    "version": 2
   },
   "file_extension": ".py",
   "mimetype": "text/x-python",
   "name": "python",
   "nbconvert_exporter": "python",
   "pygments_lexer": "ipython2",
   "version": "2.7.6"
  }
 },
 "nbformat": 4,
 "nbformat_minor": 5
}

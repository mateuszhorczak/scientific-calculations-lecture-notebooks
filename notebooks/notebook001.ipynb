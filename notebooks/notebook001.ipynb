{
 "cells": [
  {
   "metadata": {},
   "cell_type": "markdown",
   "source": "# Funkcja f(x) = x * ln(x)^4",
   "id": "538a0de4fbc58790"
  },
  {
   "metadata": {
    "ExecuteTime": {
     "end_time": "2025-03-20T15:44:12.316192Z",
     "start_time": "2025-03-20T15:44:11.652194Z"
    }
   },
   "cell_type": "code",
   "source": "import sympy as sp",
   "id": "6f931b03e938d630",
   "outputs": [],
   "execution_count": 2
  },
  {
   "metadata": {
    "ExecuteTime": {
     "end_time": "2025-03-20T15:44:12.326064Z",
     "start_time": "2025-03-20T15:44:12.320681Z"
    }
   },
   "cell_type": "code",
   "source": [
    "x = sp.symbols('x')\n",
    "definition = x * (sp.log(x) ** 4)"
   ],
   "id": "143c084fd05a489c",
   "outputs": [],
   "execution_count": 3
  },
  {
   "metadata": {},
   "cell_type": "markdown",
   "source": "",
   "id": "58a32268cc0e87ac"
  },
  {
   "metadata": {},
   "cell_type": "markdown",
   "source": [
    "## Zadanie 1\n",
    "Wyznacz dziedzinę funkcji i asymptoty, jeśli są.\n"
   ],
   "id": "c39fc1b94c635925"
  },
  {
   "metadata": {
    "ExecuteTime": {
     "end_time": "2025-03-20T15:44:12.528866Z",
     "start_time": "2025-03-20T15:44:12.339338Z"
    }
   },
   "cell_type": "code",
   "source": [
    "domain = sp.calculus.util.continuous_domain(definition, x, sp.Reals)\n",
    "asymptote_to_infinite = sp.limit(definition, x, sp.oo)\n",
    "asymptote_to_negative_infinite = sp.limit(definition, x, -sp.oo)\n",
    "asymptote_horizontal = sp.limit(definition, x, 0)"
   ],
   "id": "53e02b50a5621ec2",
   "outputs": [],
   "execution_count": 4
  },
  {
   "metadata": {
    "ExecuteTime": {
     "end_time": "2025-03-20T15:44:12.539544Z",
     "start_time": "2025-03-20T15:44:12.535501Z"
    }
   },
   "cell_type": "code",
   "source": [
    "print(f'Dziedzina funkcji: {domain}')\n",
    "print(f'Asymptota pionowa: {asymptote_to_infinite}')\n",
    "print(f'Asymptota pozioma: {asymptote_horizontal}')"
   ],
   "id": "13e03042d0e94342",
   "outputs": [
    {
     "name": "stdout",
     "output_type": "stream",
     "text": [
      "Dziedzina funkcji: Interval.open(0, oo)\n",
      "Asymptota pionowa: oo\n",
      "Asymptota pozioma: 0\n"
     ]
    }
   ],
   "execution_count": 5
  },
  {
   "metadata": {},
   "cell_type": "markdown",
   "source": [
    "## Zadanie 2\n",
    "Narysuj wykres funkcji."
   ],
   "id": "921d6801d76ee5f7"
  },
  {
   "metadata": {
    "ExecuteTime": {
     "end_time": "2025-03-20T15:44:12.591736Z",
     "start_time": "2025-03-20T15:44:12.552887Z"
    }
   },
   "cell_type": "code",
   "source": [
    "plot_title = 'f(x) = x * log_2(x)^4'\n",
    "x_label = 'x'\n",
    "y_label = 'f(x)'\n",
    "step = 0.01\n",
    "end_value = 10\n",
    "\n",
    "sp.plot(definition, (x, step, end_value), title=plot_title, xlabel=x_label, ylabel=y_label)"
   ],
   "id": "592a12a1983b8412",
   "outputs": [
    {
     "name": "stdout",
     "output_type": "stream",
     "text": [
      "    280 |                                                      /\n",
      "        |                                                     / \n",
      "        |                                                    /  \n",
      "        |                                                   /   \n",
      "        |                                                  /    \n",
      "        |                                                 /     \n",
      "        |                                               ..      \n",
      "        |                                              /        \n",
      "        |                                             /         \n",
      "        |                                           ..          \n",
      "    140 |------------------------------------------/------------\n",
      "        |                                        ..             \n",
      "        |                                       /               \n",
      "        |                                     ..                \n",
      "        |                                   ..                  \n",
      "        |                                 ..                    \n",
      "        |                               ..                      \n",
      "        |                            ...                        \n",
      "        |                        ....                           \n",
      "        |                  ......                               \n",
      "      0 |_______________________________________________________\n",
      "         0.01                       5.005                      10\n"
     ]
    },
    {
     "data": {
      "text/plain": [
       "<sympy.plotting.backends.textbackend.text.TextBackend at 0x216b0e874d0>"
      ]
     },
     "execution_count": 6,
     "metadata": {},
     "output_type": "execute_result"
    }
   ],
   "execution_count": 6
  },
  {
   "metadata": {},
   "cell_type": "markdown",
   "source": [
    "## Zadanie 3\n",
    "Obliczyć pochodne f(k), k = 1, 2, 3, 4 a następnie obliczyć wartości tych pochodnych w podanych punktach"
   ],
   "id": "5ab9a2f4ee2fa73"
  },
  {
   "metadata": {
    "ExecuteTime": {
     "end_time": "2025-03-20T15:44:12.681273Z",
     "start_time": "2025-03-20T15:44:12.661419Z"
    }
   },
   "cell_type": "code",
   "source": [
    "first_derivative = sp.diff(definition)\n",
    "second_derivative = sp.diff(first_derivative)\n",
    "third_derivative = sp.diff(second_derivative)\n",
    "fourth_derivative = sp.diff(third_derivative)"
   ],
   "id": "3d5a135fbc181f71",
   "outputs": [],
   "execution_count": 7
  },
  {
   "metadata": {
    "ExecuteTime": {
     "end_time": "2025-03-20T15:44:41.492542Z",
     "start_time": "2025-03-20T15:44:41.482835Z"
    }
   },
   "cell_type": "code",
   "source": [
    "print(f'Pierwsza pochodna (1.11) {first_derivative.subs(x, 1.11).evalf()}')\n",
    "print(f'Druga pochodna (2.22) {second_derivative.subs(x, 2.22).evalf()}')\n",
    "print(f'Trzecie pochodna (3.33) {third_derivative.subs(x, 3.33).evalf()}')\n",
    "print(f'Czwarta pochodna (4.44) {fourth_derivative.subs(x, 4.44).evalf()}')"
   ],
   "id": "b5aa8c6279402b6f",
   "outputs": [
    {
     "name": "stdout",
     "output_type": "stream",
     "text": [
      "Pierwsza pochodna (1.11) 0.00466495920995858\n",
      "Druga pochodna (2.22) 4.35185927358923\n",
      "Trzecie pochodna (3.33) 1.97565552576735\n",
      "Czwarta pochodna (4.44) -0.545166487330982\n"
     ]
    }
   ],
   "execution_count": 8
  },
  {
   "metadata": {},
   "cell_type": "markdown",
   "source": "## Zadanie 4",
   "id": "1d8ccdb6bdddc2d8"
  },
  {
   "metadata": {},
   "cell_type": "markdown",
   "source": "## Zadanie 5",
   "id": "279c31a9ef913898"
  },
  {
   "metadata": {},
   "cell_type": "markdown",
   "source": "## Zadanie 6",
   "id": "59899d0a78c43475"
  }
 ],
 "metadata": {
  "kernelspec": {
   "display_name": "Python 3",
   "language": "python",
   "name": "python3"
  },
  "language_info": {
   "codemirror_mode": {
    "name": "ipython",
    "version": 2
   },
   "file_extension": ".py",
   "mimetype": "text/x-python",
   "name": "python",
   "nbconvert_exporter": "python",
   "pygments_lexer": "ipython2",
   "version": "2.7.6"
  }
 },
 "nbformat": 4,
 "nbformat_minor": 5
}

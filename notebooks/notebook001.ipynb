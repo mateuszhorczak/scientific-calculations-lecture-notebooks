{
 "cells": [
  {
   "metadata": {},
   "cell_type": "markdown",
   "source": "# Funkcja f(x) = x * ln(x)^4",
   "id": "538a0de4fbc58790"
  },
  {
   "metadata": {},
   "cell_type": "code",
   "source": "import sympy as sp",
   "id": "6f931b03e938d630",
   "outputs": [],
   "execution_count": null
  },
  {
   "metadata": {},
   "cell_type": "code",
   "source": [
    "x = sp.symbols('x')\n",
    "definition = x * (sp.log(x) ** 4)"
   ],
   "id": "143c084fd05a489c",
   "outputs": [],
   "execution_count": null
  },
  {
   "metadata": {},
   "cell_type": "markdown",
   "source": "",
   "id": "58a32268cc0e87ac"
  },
  {
   "metadata": {},
   "cell_type": "markdown",
   "source": [
    "## Zadanie 1\n",
    "Wyznacz dziedzinę funkcji i asymptoty, jeśli są.\n"
   ],
   "id": "c39fc1b94c635925"
  },
  {
   "metadata": {},
   "cell_type": "code",
   "source": [
    "domain = sp.calculus.util.continuous_domain(definition, x, sp.Reals)\n",
    "asymptote_to_infinite = sp.limit(definition, x, sp.oo)\n",
    "asymptote_to_negative_infinite = sp.limit(definition, x, -sp.oo)\n",
    "asymptote_horizontal = sp.limit(definition, x, 0)"
   ],
   "id": "53e02b50a5621ec2",
   "outputs": [],
   "execution_count": null
  },
  {
   "metadata": {},
   "cell_type": "code",
   "source": [
    "print(f'Dziedzina funkcji: {domain}')\n",
    "print(f'Asymptota pionowa: {asymptote_to_infinite}')\n",
    "print(f'Asymptota pozioma: {asymptote_horizontal}')"
   ],
   "id": "13e03042d0e94342",
   "outputs": [],
   "execution_count": null
  },
  {
   "metadata": {},
   "cell_type": "markdown",
   "source": [
    "## Zadanie 2\n",
    "Narysuj wykres funkcji."
   ],
   "id": "921d6801d76ee5f7"
  },
  {
   "metadata": {},
   "cell_type": "code",
   "source": [
    "plot_title = 'f(x) = x * log_2(x)^4'\n",
    "x_label = 'x'\n",
    "y_label = 'f(x)'\n",
    "step = 0.01\n",
    "end_value = 10\n",
    "\n",
    "sp.plot(definition, (x, step, end_value), title=plot_title, xlabel=x_label, ylabel=y_label)"
   ],
   "id": "592a12a1983b8412",
   "outputs": [],
   "execution_count": null
  },
  {
   "metadata": {},
   "cell_type": "markdown",
   "source": "## Zadanie 3",
   "id": "5ab9a2f4ee2fa73"
  },
  {
   "metadata": {},
   "cell_type": "markdown",
   "source": "## Zadanie 4",
   "id": "1d8ccdb6bdddc2d8"
  },
  {
   "metadata": {},
   "cell_type": "markdown",
   "source": "## Zadanie 5",
   "id": "279c31a9ef913898"
  },
  {
   "metadata": {},
   "cell_type": "markdown",
   "source": "## Zadanie 6",
   "id": "59899d0a78c43475"
  }
 ],
 "metadata": {
  "kernelspec": {
   "display_name": "Python 3",
   "language": "python",
   "name": "python3"
  },
  "language_info": {
   "codemirror_mode": {
    "name": "ipython",
    "version": 2
   },
   "file_extension": ".py",
   "mimetype": "text/x-python",
   "name": "python",
   "nbconvert_exporter": "python",
   "pygments_lexer": "ipython2",
   "version": "2.7.6"
  }
 },
 "nbformat": 4,
 "nbformat_minor": 5
}
